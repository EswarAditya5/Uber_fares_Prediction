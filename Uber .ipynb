{
 "cells": [
  {
   "cell_type": "markdown",
   "id": "a2928230-7408-4e57-8013-6aecb3bed905",
   "metadata": {},
   "source": [
    "# Uber Fare Prediction"
   ]
  },
  {
   "cell_type": "code",
   "execution_count": 2,
   "id": "7c55f4a2",
   "metadata": {},
   "outputs": [],
   "source": [
    "import io\n",
    "import os\n",
    "import pandas as pd # Importing I/O files\n",
    "import numpy as np # linear albegrea\n",
    "# Data visualization\n",
    "import matplotlib.pyplot as plt\n",
    "import seaborn as sns\n",
    "%matplotlib inline"
   ]
  },
  {
   "cell_type": "code",
   "execution_count": 4,
   "id": "767bbe8c",
   "metadata": {},
   "outputs": [],
   "source": [
    "uber=pd.read_csv('uber fares data.csv') # importing the file as dataframe"
   ]
  },
  {
   "cell_type": "code",
   "execution_count": 5,
   "id": "25a62615",
   "metadata": {},
   "outputs": [
    {
     "data": {
      "text/html": [
       "<div>\n",
       "<style scoped>\n",
       "    .dataframe tbody tr th:only-of-type {\n",
       "        vertical-align: middle;\n",
       "    }\n",
       "\n",
       "    .dataframe tbody tr th {\n",
       "        vertical-align: top;\n",
       "    }\n",
       "\n",
       "    .dataframe thead th {\n",
       "        text-align: right;\n",
       "    }\n",
       "</style>\n",
       "<table border=\"1\" class=\"dataframe\">\n",
       "  <thead>\n",
       "    <tr style=\"text-align: right;\">\n",
       "      <th></th>\n",
       "      <th>Unnamed: 0</th>\n",
       "      <th>key</th>\n",
       "      <th>fare_amount</th>\n",
       "      <th>pickup_datetime</th>\n",
       "      <th>pickup_longitude</th>\n",
       "      <th>pickup_latitude</th>\n",
       "      <th>dropoff_longitude</th>\n",
       "      <th>dropoff_latitude</th>\n",
       "      <th>passenger_count</th>\n",
       "    </tr>\n",
       "  </thead>\n",
       "  <tbody>\n",
       "    <tr>\n",
       "      <th>0</th>\n",
       "      <td>24238194</td>\n",
       "      <td>2015-05-07 19:52:06.0000003</td>\n",
       "      <td>7.5</td>\n",
       "      <td>2015-05-07 19:52:06 UTC</td>\n",
       "      <td>-73.999817</td>\n",
       "      <td>40.738354</td>\n",
       "      <td>-73.999512</td>\n",
       "      <td>40.723217</td>\n",
       "      <td>1</td>\n",
       "    </tr>\n",
       "    <tr>\n",
       "      <th>1</th>\n",
       "      <td>27835199</td>\n",
       "      <td>2009-07-17 20:04:56.0000002</td>\n",
       "      <td>7.7</td>\n",
       "      <td>2009-07-17 20:04:56 UTC</td>\n",
       "      <td>-73.994355</td>\n",
       "      <td>40.728225</td>\n",
       "      <td>-73.994710</td>\n",
       "      <td>40.750325</td>\n",
       "      <td>1</td>\n",
       "    </tr>\n",
       "    <tr>\n",
       "      <th>2</th>\n",
       "      <td>44984355</td>\n",
       "      <td>2009-08-24 21:45:00.00000061</td>\n",
       "      <td>12.9</td>\n",
       "      <td>2009-08-24 21:45:00 UTC</td>\n",
       "      <td>-74.005043</td>\n",
       "      <td>40.740770</td>\n",
       "      <td>-73.962565</td>\n",
       "      <td>40.772647</td>\n",
       "      <td>1</td>\n",
       "    </tr>\n",
       "    <tr>\n",
       "      <th>3</th>\n",
       "      <td>25894730</td>\n",
       "      <td>2009-06-26 08:22:21.0000001</td>\n",
       "      <td>5.3</td>\n",
       "      <td>2009-06-26 08:22:21 UTC</td>\n",
       "      <td>-73.976124</td>\n",
       "      <td>40.790844</td>\n",
       "      <td>-73.965316</td>\n",
       "      <td>40.803349</td>\n",
       "      <td>3</td>\n",
       "    </tr>\n",
       "    <tr>\n",
       "      <th>4</th>\n",
       "      <td>17610152</td>\n",
       "      <td>2014-08-28 17:47:00.000000188</td>\n",
       "      <td>16.0</td>\n",
       "      <td>2014-08-28 17:47:00 UTC</td>\n",
       "      <td>-73.925023</td>\n",
       "      <td>40.744085</td>\n",
       "      <td>-73.973082</td>\n",
       "      <td>40.761247</td>\n",
       "      <td>5</td>\n",
       "    </tr>\n",
       "  </tbody>\n",
       "</table>\n",
       "</div>"
      ],
      "text/plain": [
       "   Unnamed: 0                            key  fare_amount  \\\n",
       "0    24238194    2015-05-07 19:52:06.0000003          7.5   \n",
       "1    27835199    2009-07-17 20:04:56.0000002          7.7   \n",
       "2    44984355   2009-08-24 21:45:00.00000061         12.9   \n",
       "3    25894730    2009-06-26 08:22:21.0000001          5.3   \n",
       "4    17610152  2014-08-28 17:47:00.000000188         16.0   \n",
       "\n",
       "           pickup_datetime  pickup_longitude  pickup_latitude  \\\n",
       "0  2015-05-07 19:52:06 UTC        -73.999817        40.738354   \n",
       "1  2009-07-17 20:04:56 UTC        -73.994355        40.728225   \n",
       "2  2009-08-24 21:45:00 UTC        -74.005043        40.740770   \n",
       "3  2009-06-26 08:22:21 UTC        -73.976124        40.790844   \n",
       "4  2014-08-28 17:47:00 UTC        -73.925023        40.744085   \n",
       "\n",
       "   dropoff_longitude  dropoff_latitude  passenger_count  \n",
       "0         -73.999512         40.723217                1  \n",
       "1         -73.994710         40.750325                1  \n",
       "2         -73.962565         40.772647                1  \n",
       "3         -73.965316         40.803349                3  \n",
       "4         -73.973082         40.761247                5  "
      ]
     },
     "execution_count": 5,
     "metadata": {},
     "output_type": "execute_result"
    }
   ],
   "source": [
    "# head() is used to display the first few rows of a DataFrame or a Series. It helps you get a quick overview of the data.\n",
    "uber.head()"
   ]
  },
  {
   "cell_type": "code",
   "execution_count": 6,
   "id": "1eb3cfde",
   "metadata": {},
   "outputs": [
    {
     "data": {
      "text/html": [
       "<div>\n",
       "<style scoped>\n",
       "    .dataframe tbody tr th:only-of-type {\n",
       "        vertical-align: middle;\n",
       "    }\n",
       "\n",
       "    .dataframe tbody tr th {\n",
       "        vertical-align: top;\n",
       "    }\n",
       "\n",
       "    .dataframe thead th {\n",
       "        text-align: right;\n",
       "    }\n",
       "</style>\n",
       "<table border=\"1\" class=\"dataframe\">\n",
       "  <thead>\n",
       "    <tr style=\"text-align: right;\">\n",
       "      <th></th>\n",
       "      <th>Unnamed: 0</th>\n",
       "      <th>key</th>\n",
       "      <th>fare_amount</th>\n",
       "      <th>pickup_datetime</th>\n",
       "      <th>pickup_longitude</th>\n",
       "      <th>pickup_latitude</th>\n",
       "      <th>dropoff_longitude</th>\n",
       "      <th>dropoff_latitude</th>\n",
       "      <th>passenger_count</th>\n",
       "    </tr>\n",
       "  </thead>\n",
       "  <tbody>\n",
       "    <tr>\n",
       "      <th>199995</th>\n",
       "      <td>42598914</td>\n",
       "      <td>2012-10-28 10:49:00.00000053</td>\n",
       "      <td>3.0</td>\n",
       "      <td>2012-10-28 10:49:00 UTC</td>\n",
       "      <td>-73.987042</td>\n",
       "      <td>40.739367</td>\n",
       "      <td>-73.986525</td>\n",
       "      <td>40.740297</td>\n",
       "      <td>1</td>\n",
       "    </tr>\n",
       "    <tr>\n",
       "      <th>199996</th>\n",
       "      <td>16382965</td>\n",
       "      <td>2014-03-14 01:09:00.0000008</td>\n",
       "      <td>7.5</td>\n",
       "      <td>2014-03-14 01:09:00 UTC</td>\n",
       "      <td>-73.984722</td>\n",
       "      <td>40.736837</td>\n",
       "      <td>-74.006672</td>\n",
       "      <td>40.739620</td>\n",
       "      <td>1</td>\n",
       "    </tr>\n",
       "    <tr>\n",
       "      <th>199997</th>\n",
       "      <td>27804658</td>\n",
       "      <td>2009-06-29 00:42:00.00000078</td>\n",
       "      <td>30.9</td>\n",
       "      <td>2009-06-29 00:42:00 UTC</td>\n",
       "      <td>-73.986017</td>\n",
       "      <td>40.756487</td>\n",
       "      <td>-73.858957</td>\n",
       "      <td>40.692588</td>\n",
       "      <td>2</td>\n",
       "    </tr>\n",
       "    <tr>\n",
       "      <th>199998</th>\n",
       "      <td>20259894</td>\n",
       "      <td>2015-05-20 14:56:25.0000004</td>\n",
       "      <td>14.5</td>\n",
       "      <td>2015-05-20 14:56:25 UTC</td>\n",
       "      <td>-73.997124</td>\n",
       "      <td>40.725452</td>\n",
       "      <td>-73.983215</td>\n",
       "      <td>40.695415</td>\n",
       "      <td>1</td>\n",
       "    </tr>\n",
       "    <tr>\n",
       "      <th>199999</th>\n",
       "      <td>11951496</td>\n",
       "      <td>2010-05-15 04:08:00.00000076</td>\n",
       "      <td>14.1</td>\n",
       "      <td>2010-05-15 04:08:00 UTC</td>\n",
       "      <td>-73.984395</td>\n",
       "      <td>40.720077</td>\n",
       "      <td>-73.985508</td>\n",
       "      <td>40.768793</td>\n",
       "      <td>1</td>\n",
       "    </tr>\n",
       "  </tbody>\n",
       "</table>\n",
       "</div>"
      ],
      "text/plain": [
       "        Unnamed: 0                           key  fare_amount  \\\n",
       "199995    42598914  2012-10-28 10:49:00.00000053          3.0   \n",
       "199996    16382965   2014-03-14 01:09:00.0000008          7.5   \n",
       "199997    27804658  2009-06-29 00:42:00.00000078         30.9   \n",
       "199998    20259894   2015-05-20 14:56:25.0000004         14.5   \n",
       "199999    11951496  2010-05-15 04:08:00.00000076         14.1   \n",
       "\n",
       "                pickup_datetime  pickup_longitude  pickup_latitude  \\\n",
       "199995  2012-10-28 10:49:00 UTC        -73.987042        40.739367   \n",
       "199996  2014-03-14 01:09:00 UTC        -73.984722        40.736837   \n",
       "199997  2009-06-29 00:42:00 UTC        -73.986017        40.756487   \n",
       "199998  2015-05-20 14:56:25 UTC        -73.997124        40.725452   \n",
       "199999  2010-05-15 04:08:00 UTC        -73.984395        40.720077   \n",
       "\n",
       "        dropoff_longitude  dropoff_latitude  passenger_count  \n",
       "199995         -73.986525         40.740297                1  \n",
       "199996         -74.006672         40.739620                1  \n",
       "199997         -73.858957         40.692588                2  \n",
       "199998         -73.983215         40.695415                1  \n",
       "199999         -73.985508         40.768793                1  "
      ]
     },
     "execution_count": 6,
     "metadata": {},
     "output_type": "execute_result"
    }
   ],
   "source": [
    "# tail() method is similar to head(), but it displays the last few rows of a DataFrame or a Series.\n",
    "uber.tail()"
   ]
  },
  {
   "cell_type": "code",
   "execution_count": 7,
   "id": "a04de8c9",
   "metadata": {},
   "outputs": [
    {
     "data": {
      "text/plain": [
       "(200000, 9)"
      ]
     },
     "execution_count": 7,
     "metadata": {},
     "output_type": "execute_result"
    }
   ],
   "source": [
    "# checking shape of uber dataframe\n",
    "uber.shape"
   ]
  },
  {
   "cell_type": "code",
   "execution_count": 8,
   "id": "b1f3fbf2",
   "metadata": {},
   "outputs": [
    {
     "data": {
      "text/plain": [
       "Unnamed: 0             int64\n",
       "key                   object\n",
       "fare_amount          float64\n",
       "pickup_datetime       object\n",
       "pickup_longitude     float64\n",
       "pickup_latitude      float64\n",
       "dropoff_longitude    float64\n",
       "dropoff_latitude     float64\n",
       "passenger_count        int64\n",
       "dtype: object"
      ]
     },
     "execution_count": 8,
     "metadata": {},
     "output_type": "execute_result"
    }
   ],
   "source": [
    "# The dtypes attribute of a DataFrame provides information about the data types of each column.\n",
    "uber.dtypes"
   ]
  },
  {
   "cell_type": "code",
   "execution_count": 9,
   "id": "d704ca9b",
   "metadata": {},
   "outputs": [
    {
     "name": "stdout",
     "output_type": "stream",
     "text": [
      "<class 'pandas.core.frame.DataFrame'>\n",
      "RangeIndex: 200000 entries, 0 to 199999\n",
      "Data columns (total 9 columns):\n",
      " #   Column             Non-Null Count   Dtype  \n",
      "---  ------             --------------   -----  \n",
      " 0   Unnamed: 0         200000 non-null  int64  \n",
      " 1   key                200000 non-null  object \n",
      " 2   fare_amount        200000 non-null  float64\n",
      " 3   pickup_datetime    200000 non-null  object \n",
      " 4   pickup_longitude   200000 non-null  float64\n",
      " 5   pickup_latitude    200000 non-null  float64\n",
      " 6   dropoff_longitude  199999 non-null  float64\n",
      " 7   dropoff_latitude   199999 non-null  float64\n",
      " 8   passenger_count    200000 non-null  int64  \n",
      "dtypes: float64(5), int64(2), object(2)\n",
      "memory usage: 13.7+ MB\n"
     ]
    }
   ],
   "source": [
    "# The info() method provides a concise summary of a DataFrame, including information about the data types, \n",
    "# non-null values, and memory usage.\n",
    "uber.info()"
   ]
  },
  {
   "cell_type": "markdown",
   "id": "d6dc5d1a-0c1b-445e-aa1e-d511a62e0929",
   "metadata": {},
   "source": [
    "# EXploratory Data Analysis(EDA)"
   ]
  },
  {
   "cell_type": "code",
   "execution_count": 10,
   "id": "09ce9057",
   "metadata": {},
   "outputs": [
    {
     "data": {
      "text/plain": [
       "dropoff_longitude    1\n",
       "dropoff_latitude     1\n",
       "Unnamed: 0           0\n",
       "key                  0\n",
       "fare_amount          0\n",
       "pickup_datetime      0\n",
       "pickup_longitude     0\n",
       "pickup_latitude      0\n",
       "passenger_count      0\n",
       "dtype: int64"
      ]
     },
     "execution_count": 10,
     "metadata": {},
     "output_type": "execute_result"
    }
   ],
   "source": [
    "#Checking how many null values are there in earch column\n",
    "uber.isnull().sum().sort_values(ascending=False)"
   ]
  },
  {
   "cell_type": "code",
   "execution_count": 11,
   "id": "32007c89",
   "metadata": {},
   "outputs": [
    {
     "data": {
      "text/plain": [
       " 0.000000     3764\n",
       "-73.137393      65\n",
       "-73.980400      21\n",
       "-73.991025      21\n",
       "-73.978952      20\n",
       "              ... \n",
       "-73.967661       1\n",
       "-74.000016       1\n",
       "-73.884682       1\n",
       "-73.984076       1\n",
       "-73.858957       1\n",
       "Name: dropoff_longitude, Length: 76894, dtype: int64"
      ]
     },
     "execution_count": 11,
     "metadata": {},
     "output_type": "execute_result"
    }
   ],
   "source": [
    "uber.dropoff_longitude.value_counts()"
   ]
  },
  {
   "cell_type": "code",
   "execution_count": 12,
   "id": "c990d30e",
   "metadata": {},
   "outputs": [],
   "source": [
    "uber.dropoff_longitude=uber.dropoff_longitude.fillna(0.000000)"
   ]
  },
  {
   "cell_type": "code",
   "execution_count": 13,
   "id": "8e7680ff",
   "metadata": {},
   "outputs": [
    {
     "data": {
      "text/plain": [
       "0.000000     3758\n",
       "41.366138      65\n",
       "40.750207      21\n",
       "40.756400      17\n",
       "40.750322      16\n",
       "             ... \n",
       "40.820070       1\n",
       "40.656993       1\n",
       "40.776530       1\n",
       "40.783642       1\n",
       "40.768793       1\n",
       "Name: dropoff_latitude, Length: 90585, dtype: int64"
      ]
     },
     "execution_count": 13,
     "metadata": {},
     "output_type": "execute_result"
    }
   ],
   "source": [
    "uber.dropoff_latitude.value_counts()"
   ]
  },
  {
   "cell_type": "code",
   "execution_count": 14,
   "id": "6e542881",
   "metadata": {},
   "outputs": [],
   "source": [
    "uber.dropoff_latitude=uber.dropoff_latitude.fillna(0.000000)"
   ]
  },
  {
   "cell_type": "code",
   "execution_count": 15,
   "id": "87281ed8",
   "metadata": {},
   "outputs": [
    {
     "data": {
      "text/plain": [
       "Unnamed: 0           0\n",
       "key                  0\n",
       "fare_amount          0\n",
       "pickup_datetime      0\n",
       "pickup_longitude     0\n",
       "pickup_latitude      0\n",
       "dropoff_longitude    0\n",
       "dropoff_latitude     0\n",
       "passenger_count      0\n",
       "dtype: int64"
      ]
     },
     "execution_count": 15,
     "metadata": {},
     "output_type": "execute_result"
    }
   ],
   "source": [
    "uber.isnull().sum()"
   ]
  },
  {
   "cell_type": "code",
   "execution_count": 16,
   "id": "0e4ae046",
   "metadata": {},
   "outputs": [
    {
     "data": {
      "text/plain": [
       "0    2015-05-07 19:52:06 UTC\n",
       "1    2009-07-17 20:04:56 UTC\n",
       "2    2009-08-24 21:45:00 UTC\n",
       "3    2009-06-26 08:22:21 UTC\n",
       "4    2014-08-28 17:47:00 UTC\n",
       "Name: pickup_datetime, dtype: object"
      ]
     },
     "execution_count": 16,
     "metadata": {},
     "output_type": "execute_result"
    }
   ],
   "source": [
    "#critical variable - pickup_datetime\n",
    "uber.pickup_datetime.head()"
   ]
  },
  {
   "cell_type": "markdown",
   "id": "104f3290-6066-4d69-8a31-6256ac0280dc",
   "metadata": {},
   "source": [
    "## Converting pickup_datetime dateformat from object(UTC) to mixed"
   ]
  },
  {
   "cell_type": "raw",
   "id": "ec5483e9-3626-44dc-a584-7266ee1c8b7b",
   "metadata": {},
   "source": [
    "uber.pickup_datetime=pd.to_datetime(uber.pickup_datetime,format='mixed') #%Y-%m-%d HH:MM:SS,ISO8601"
   ]
  },
  {
   "cell_type": "code",
   "execution_count": 18,
   "id": "a60cce02",
   "metadata": {},
   "outputs": [
    {
     "data": {
      "text/plain": [
       "0    2015-05-07 19:52:06 UTC\n",
       "1    2009-07-17 20:04:56 UTC\n",
       "2    2009-08-24 21:45:00 UTC\n",
       "3    2009-06-26 08:22:21 UTC\n",
       "4    2014-08-28 17:47:00 UTC\n",
       "Name: pickup_datetime, dtype: object"
      ]
     },
     "execution_count": 18,
     "metadata": {},
     "output_type": "execute_result"
    }
   ],
   "source": [
    "uber.pickup_datetime.head()"
   ]
  },
  {
   "cell_type": "markdown",
   "id": "cc0d0148-a2c9-4bb8-b02a-0dead398a985",
   "metadata": {},
   "source": [
    "## Converting pickup_datetime from global to local time "
   ]
  },
  {
   "cell_type": "code",
   "execution_count": 19,
   "id": "eec5d324",
   "metadata": {},
   "outputs": [],
   "source": [
    "uber.pickup_datetime=pd.to_datetime(uber.pickup_datetime).dt.tz_localize(None)"
   ]
  },
  {
   "cell_type": "code",
   "execution_count": 20,
   "id": "fb0a7a76",
   "metadata": {},
   "outputs": [
    {
     "data": {
      "text/plain": [
       "0   2015-05-07 19:52:06\n",
       "1   2009-07-17 20:04:56\n",
       "2   2009-08-24 21:45:00\n",
       "3   2009-06-26 08:22:21\n",
       "4   2014-08-28 17:47:00\n",
       "Name: pickup_datetime, dtype: datetime64[ns]"
      ]
     },
     "execution_count": 20,
     "metadata": {},
     "output_type": "execute_result"
    }
   ],
   "source": [
    "uber.pickup_datetime.head()"
   ]
  },
  {
   "cell_type": "code",
   "execution_count": 21,
   "id": "06ed3f02",
   "metadata": {},
   "outputs": [],
   "source": [
    "uber_df=uber[['pickup_datetime','fare_amount','passenger_count']]"
   ]
  },
  {
   "cell_type": "markdown",
   "id": "bb3b6827-5689-4083-8d86-8af05f9cbc65",
   "metadata": {},
   "source": [
    "# Resampling the data from Population(uber_df) to sample data(daily)"
   ]
  },
  {
   "cell_type": "code",
   "execution_count": 22,
   "id": "ba31e743",
   "metadata": {},
   "outputs": [],
   "source": [
    "daily=uber_df.resample('D',on='pickup_datetime').sum() #D- we are converted into daily wise data."
   ]
  },
  {
   "cell_type": "code",
   "execution_count": 23,
   "id": "6f2d5519",
   "metadata": {},
   "outputs": [
    {
     "data": {
      "text/html": [
       "<div>\n",
       "<style scoped>\n",
       "    .dataframe tbody tr th:only-of-type {\n",
       "        vertical-align: middle;\n",
       "    }\n",
       "\n",
       "    .dataframe tbody tr th {\n",
       "        vertical-align: top;\n",
       "    }\n",
       "\n",
       "    .dataframe thead th {\n",
       "        text-align: right;\n",
       "    }\n",
       "</style>\n",
       "<table border=\"1\" class=\"dataframe\">\n",
       "  <thead>\n",
       "    <tr style=\"text-align: right;\">\n",
       "      <th></th>\n",
       "      <th>fare_amount</th>\n",
       "      <th>passenger_count</th>\n",
       "    </tr>\n",
       "    <tr>\n",
       "      <th>pickup_datetime</th>\n",
       "      <th></th>\n",
       "      <th></th>\n",
       "    </tr>\n",
       "  </thead>\n",
       "  <tbody>\n",
       "    <tr>\n",
       "      <th>2009-01-01</th>\n",
       "      <td>621.20</td>\n",
       "      <td>113</td>\n",
       "    </tr>\n",
       "    <tr>\n",
       "      <th>2009-01-02</th>\n",
       "      <td>739.55</td>\n",
       "      <td>113</td>\n",
       "    </tr>\n",
       "    <tr>\n",
       "      <th>2009-01-03</th>\n",
       "      <td>935.70</td>\n",
       "      <td>147</td>\n",
       "    </tr>\n",
       "    <tr>\n",
       "      <th>2009-01-04</th>\n",
       "      <td>733.30</td>\n",
       "      <td>132</td>\n",
       "    </tr>\n",
       "    <tr>\n",
       "      <th>2009-01-05</th>\n",
       "      <td>550.95</td>\n",
       "      <td>109</td>\n",
       "    </tr>\n",
       "  </tbody>\n",
       "</table>\n",
       "</div>"
      ],
      "text/plain": [
       "                 fare_amount  passenger_count\n",
       "pickup_datetime                              \n",
       "2009-01-01            621.20              113\n",
       "2009-01-02            739.55              113\n",
       "2009-01-03            935.70              147\n",
       "2009-01-04            733.30              132\n",
       "2009-01-05            550.95              109"
      ]
     },
     "execution_count": 23,
     "metadata": {},
     "output_type": "execute_result"
    }
   ],
   "source": [
    "daily.head()"
   ]
  },
  {
   "cell_type": "code",
   "execution_count": 24,
   "id": "c431c727",
   "metadata": {},
   "outputs": [
    {
     "data": {
      "text/html": [
       "<div>\n",
       "<style scoped>\n",
       "    .dataframe tbody tr th:only-of-type {\n",
       "        vertical-align: middle;\n",
       "    }\n",
       "\n",
       "    .dataframe tbody tr th {\n",
       "        vertical-align: top;\n",
       "    }\n",
       "\n",
       "    .dataframe thead th {\n",
       "        text-align: right;\n",
       "    }\n",
       "</style>\n",
       "<table border=\"1\" class=\"dataframe\">\n",
       "  <thead>\n",
       "    <tr style=\"text-align: right;\">\n",
       "      <th></th>\n",
       "      <th>fare_amount</th>\n",
       "      <th>passenger_count</th>\n",
       "    </tr>\n",
       "    <tr>\n",
       "      <th>pickup_datetime</th>\n",
       "      <th></th>\n",
       "      <th></th>\n",
       "    </tr>\n",
       "  </thead>\n",
       "  <tbody>\n",
       "    <tr>\n",
       "      <th>2015-06-26</th>\n",
       "      <td>1082.12</td>\n",
       "      <td>145</td>\n",
       "    </tr>\n",
       "    <tr>\n",
       "      <th>2015-06-27</th>\n",
       "      <td>1114.24</td>\n",
       "      <td>133</td>\n",
       "    </tr>\n",
       "    <tr>\n",
       "      <th>2015-06-28</th>\n",
       "      <td>905.58</td>\n",
       "      <td>123</td>\n",
       "    </tr>\n",
       "    <tr>\n",
       "      <th>2015-06-29</th>\n",
       "      <td>764.12</td>\n",
       "      <td>99</td>\n",
       "    </tr>\n",
       "    <tr>\n",
       "      <th>2015-06-30</th>\n",
       "      <td>884.66</td>\n",
       "      <td>103</td>\n",
       "    </tr>\n",
       "  </tbody>\n",
       "</table>\n",
       "</div>"
      ],
      "text/plain": [
       "                 fare_amount  passenger_count\n",
       "pickup_datetime                              \n",
       "2015-06-26           1082.12              145\n",
       "2015-06-27           1114.24              133\n",
       "2015-06-28            905.58              123\n",
       "2015-06-29            764.12               99\n",
       "2015-06-30            884.66              103"
      ]
     },
     "execution_count": 24,
     "metadata": {},
     "output_type": "execute_result"
    }
   ],
   "source": [
    "daily.tail()"
   ]
  },
  {
   "cell_type": "markdown",
   "id": "63fb7ce9-ae33-4b09-810d-b2f00a75d439",
   "metadata": {},
   "source": [
    "# Resampling the data from Population(uber_df) to sample data(weekly)"
   ]
  },
  {
   "cell_type": "code",
   "execution_count": 25,
   "id": "91353669",
   "metadata": {},
   "outputs": [],
   "source": [
    "weekly=uber_df.resample('W',on='pickup_datetime').sum()"
   ]
  },
  {
   "cell_type": "code",
   "execution_count": 26,
   "id": "3dec6edd",
   "metadata": {},
   "outputs": [
    {
     "data": {
      "text/html": [
       "<div>\n",
       "<style scoped>\n",
       "    .dataframe tbody tr th:only-of-type {\n",
       "        vertical-align: middle;\n",
       "    }\n",
       "\n",
       "    .dataframe tbody tr th {\n",
       "        vertical-align: top;\n",
       "    }\n",
       "\n",
       "    .dataframe thead th {\n",
       "        text-align: right;\n",
       "    }\n",
       "</style>\n",
       "<table border=\"1\" class=\"dataframe\">\n",
       "  <thead>\n",
       "    <tr style=\"text-align: right;\">\n",
       "      <th></th>\n",
       "      <th>fare_amount</th>\n",
       "      <th>passenger_count</th>\n",
       "    </tr>\n",
       "    <tr>\n",
       "      <th>pickup_datetime</th>\n",
       "      <th></th>\n",
       "      <th></th>\n",
       "    </tr>\n",
       "  </thead>\n",
       "  <tbody>\n",
       "    <tr>\n",
       "      <th>2009-01-04</th>\n",
       "      <td>3029.75</td>\n",
       "      <td>505</td>\n",
       "    </tr>\n",
       "    <tr>\n",
       "      <th>2009-01-11</th>\n",
       "      <td>4953.80</td>\n",
       "      <td>876</td>\n",
       "    </tr>\n",
       "    <tr>\n",
       "      <th>2009-01-18</th>\n",
       "      <td>5627.95</td>\n",
       "      <td>991</td>\n",
       "    </tr>\n",
       "    <tr>\n",
       "      <th>2009-01-25</th>\n",
       "      <td>5510.40</td>\n",
       "      <td>941</td>\n",
       "    </tr>\n",
       "    <tr>\n",
       "      <th>2009-02-01</th>\n",
       "      <td>6023.50</td>\n",
       "      <td>1037</td>\n",
       "    </tr>\n",
       "  </tbody>\n",
       "</table>\n",
       "</div>"
      ],
      "text/plain": [
       "                 fare_amount  passenger_count\n",
       "pickup_datetime                              \n",
       "2009-01-04           3029.75              505\n",
       "2009-01-11           4953.80              876\n",
       "2009-01-18           5627.95              991\n",
       "2009-01-25           5510.40              941\n",
       "2009-02-01           6023.50             1037"
      ]
     },
     "execution_count": 26,
     "metadata": {},
     "output_type": "execute_result"
    }
   ],
   "source": [
    "weekly.head()"
   ]
  },
  {
   "cell_type": "markdown",
   "id": "8083fe15-05ae-4e4d-b0ec-b240d9008e45",
   "metadata": {},
   "source": [
    "# Resampling the data from Population(uber_df) to sample data(montly)"
   ]
  },
  {
   "cell_type": "code",
   "execution_count": 27,
   "id": "97bf009c",
   "metadata": {},
   "outputs": [
    {
     "data": {
      "text/html": [
       "<div>\n",
       "<style scoped>\n",
       "    .dataframe tbody tr th:only-of-type {\n",
       "        vertical-align: middle;\n",
       "    }\n",
       "\n",
       "    .dataframe tbody tr th {\n",
       "        vertical-align: top;\n",
       "    }\n",
       "\n",
       "    .dataframe thead th {\n",
       "        text-align: right;\n",
       "    }\n",
       "</style>\n",
       "<table border=\"1\" class=\"dataframe\">\n",
       "  <thead>\n",
       "    <tr style=\"text-align: right;\">\n",
       "      <th></th>\n",
       "      <th>fare_amount</th>\n",
       "      <th>passenger_count</th>\n",
       "    </tr>\n",
       "    <tr>\n",
       "      <th>pickup_datetime</th>\n",
       "      <th></th>\n",
       "      <th></th>\n",
       "    </tr>\n",
       "  </thead>\n",
       "  <tbody>\n",
       "    <tr>\n",
       "      <th>2009-01-31</th>\n",
       "      <td>24471.80</td>\n",
       "      <td>4225</td>\n",
       "    </tr>\n",
       "    <tr>\n",
       "      <th>2009-02-28</th>\n",
       "      <td>22195.75</td>\n",
       "      <td>3873</td>\n",
       "    </tr>\n",
       "    <tr>\n",
       "      <th>2009-03-31</th>\n",
       "      <td>27589.25</td>\n",
       "      <td>4567</td>\n",
       "    </tr>\n",
       "    <tr>\n",
       "      <th>2009-04-30</th>\n",
       "      <td>26010.95</td>\n",
       "      <td>4231</td>\n",
       "    </tr>\n",
       "    <tr>\n",
       "      <th>2009-05-31</th>\n",
       "      <td>26626.25</td>\n",
       "      <td>4437</td>\n",
       "    </tr>\n",
       "  </tbody>\n",
       "</table>\n",
       "</div>"
      ],
      "text/plain": [
       "                 fare_amount  passenger_count\n",
       "pickup_datetime                              \n",
       "2009-01-31          24471.80             4225\n",
       "2009-02-28          22195.75             3873\n",
       "2009-03-31          27589.25             4567\n",
       "2009-04-30          26010.95             4231\n",
       "2009-05-31          26626.25             4437"
      ]
     },
     "execution_count": 27,
     "metadata": {},
     "output_type": "execute_result"
    }
   ],
   "source": [
    "monthly=uber_df.resample('M',on='pickup_datetime').sum()\n",
    "monthly.head()"
   ]
  },
  {
   "cell_type": "markdown",
   "id": "d768f96f-126b-4ebc-bde7-a5795958b5da",
   "metadata": {},
   "source": [
    "### Dependent variable is fare_amount, one of the independent vaariable is passenger count\n",
    "### 1. Extracting inidependent variables from date (to convert multivariate)\n",
    "### 2. Datetime library is part of pandas (dt.weekday,dt.month,dt.quarter,dt.hour) from daily basis"
   ]
  },
  {
   "cell_type": "code",
   "execution_count": 28,
   "id": "1fb4714c",
   "metadata": {},
   "outputs": [],
   "source": [
    "daily=daily.reset_index()"
   ]
  },
  {
   "cell_type": "code",
   "execution_count": 29,
   "id": "00c8d9cd",
   "metadata": {},
   "outputs": [],
   "source": [
    "daily['weekday']=uber_df.pickup_datetime.dt.weekday\n",
    "#0-monday,1-tuesday,2-wednessday,3-thursday,4-friday,5-saturday,6-sunday"
   ]
  },
  {
   "cell_type": "code",
   "execution_count": 30,
   "id": "730992b6",
   "metadata": {},
   "outputs": [
    {
     "data": {
      "text/html": [
       "<div>\n",
       "<style scoped>\n",
       "    .dataframe tbody tr th:only-of-type {\n",
       "        vertical-align: middle;\n",
       "    }\n",
       "\n",
       "    .dataframe tbody tr th {\n",
       "        vertical-align: top;\n",
       "    }\n",
       "\n",
       "    .dataframe thead th {\n",
       "        text-align: right;\n",
       "    }\n",
       "</style>\n",
       "<table border=\"1\" class=\"dataframe\">\n",
       "  <thead>\n",
       "    <tr style=\"text-align: right;\">\n",
       "      <th></th>\n",
       "      <th>pickup_datetime</th>\n",
       "      <th>fare_amount</th>\n",
       "      <th>passenger_count</th>\n",
       "      <th>weekday</th>\n",
       "    </tr>\n",
       "  </thead>\n",
       "  <tbody>\n",
       "    <tr>\n",
       "      <th>0</th>\n",
       "      <td>2009-01-01</td>\n",
       "      <td>621.20</td>\n",
       "      <td>113</td>\n",
       "      <td>3</td>\n",
       "    </tr>\n",
       "    <tr>\n",
       "      <th>1</th>\n",
       "      <td>2009-01-02</td>\n",
       "      <td>739.55</td>\n",
       "      <td>113</td>\n",
       "      <td>4</td>\n",
       "    </tr>\n",
       "    <tr>\n",
       "      <th>2</th>\n",
       "      <td>2009-01-03</td>\n",
       "      <td>935.70</td>\n",
       "      <td>147</td>\n",
       "      <td>0</td>\n",
       "    </tr>\n",
       "    <tr>\n",
       "      <th>3</th>\n",
       "      <td>2009-01-04</td>\n",
       "      <td>733.30</td>\n",
       "      <td>132</td>\n",
       "      <td>4</td>\n",
       "    </tr>\n",
       "    <tr>\n",
       "      <th>4</th>\n",
       "      <td>2009-01-05</td>\n",
       "      <td>550.95</td>\n",
       "      <td>109</td>\n",
       "      <td>3</td>\n",
       "    </tr>\n",
       "  </tbody>\n",
       "</table>\n",
       "</div>"
      ],
      "text/plain": [
       "  pickup_datetime  fare_amount  passenger_count  weekday\n",
       "0      2009-01-01       621.20              113        3\n",
       "1      2009-01-02       739.55              113        4\n",
       "2      2009-01-03       935.70              147        0\n",
       "3      2009-01-04       733.30              132        4\n",
       "4      2009-01-05       550.95              109        3"
      ]
     },
     "execution_count": 30,
     "metadata": {},
     "output_type": "execute_result"
    }
   ],
   "source": [
    "daily.head()"
   ]
  },
  {
   "cell_type": "code",
   "execution_count": 31,
   "id": "5555a681",
   "metadata": {},
   "outputs": [],
   "source": [
    "daily['hour']=daily.pickup_datetime.dt.hour"
   ]
  },
  {
   "cell_type": "code",
   "execution_count": 32,
   "id": "c685432a",
   "metadata": {},
   "outputs": [
    {
     "data": {
      "text/html": [
       "<div>\n",
       "<style scoped>\n",
       "    .dataframe tbody tr th:only-of-type {\n",
       "        vertical-align: middle;\n",
       "    }\n",
       "\n",
       "    .dataframe tbody tr th {\n",
       "        vertical-align: top;\n",
       "    }\n",
       "\n",
       "    .dataframe thead th {\n",
       "        text-align: right;\n",
       "    }\n",
       "</style>\n",
       "<table border=\"1\" class=\"dataframe\">\n",
       "  <thead>\n",
       "    <tr style=\"text-align: right;\">\n",
       "      <th></th>\n",
       "      <th>pickup_datetime</th>\n",
       "      <th>fare_amount</th>\n",
       "      <th>passenger_count</th>\n",
       "      <th>weekday</th>\n",
       "      <th>hour</th>\n",
       "    </tr>\n",
       "  </thead>\n",
       "  <tbody>\n",
       "    <tr>\n",
       "      <th>0</th>\n",
       "      <td>2009-01-01</td>\n",
       "      <td>621.20</td>\n",
       "      <td>113</td>\n",
       "      <td>3</td>\n",
       "      <td>0</td>\n",
       "    </tr>\n",
       "    <tr>\n",
       "      <th>1</th>\n",
       "      <td>2009-01-02</td>\n",
       "      <td>739.55</td>\n",
       "      <td>113</td>\n",
       "      <td>4</td>\n",
       "      <td>0</td>\n",
       "    </tr>\n",
       "    <tr>\n",
       "      <th>2</th>\n",
       "      <td>2009-01-03</td>\n",
       "      <td>935.70</td>\n",
       "      <td>147</td>\n",
       "      <td>0</td>\n",
       "      <td>0</td>\n",
       "    </tr>\n",
       "    <tr>\n",
       "      <th>3</th>\n",
       "      <td>2009-01-04</td>\n",
       "      <td>733.30</td>\n",
       "      <td>132</td>\n",
       "      <td>4</td>\n",
       "      <td>0</td>\n",
       "    </tr>\n",
       "    <tr>\n",
       "      <th>4</th>\n",
       "      <td>2009-01-05</td>\n",
       "      <td>550.95</td>\n",
       "      <td>109</td>\n",
       "      <td>3</td>\n",
       "      <td>0</td>\n",
       "    </tr>\n",
       "  </tbody>\n",
       "</table>\n",
       "</div>"
      ],
      "text/plain": [
       "  pickup_datetime  fare_amount  passenger_count  weekday  hour\n",
       "0      2009-01-01       621.20              113        3     0\n",
       "1      2009-01-02       739.55              113        4     0\n",
       "2      2009-01-03       935.70              147        0     0\n",
       "3      2009-01-04       733.30              132        4     0\n",
       "4      2009-01-05       550.95              109        3     0"
      ]
     },
     "execution_count": 32,
     "metadata": {},
     "output_type": "execute_result"
    }
   ],
   "source": [
    "daily.head()"
   ]
  },
  {
   "cell_type": "code",
   "execution_count": 33,
   "id": "19050d7f",
   "metadata": {},
   "outputs": [
    {
     "data": {
      "text/plain": [
       "0    2372\n",
       "Name: hour, dtype: int64"
      ]
     },
     "execution_count": 33,
     "metadata": {},
     "output_type": "execute_result"
    }
   ],
   "source": [
    "daily.hour.value_counts()"
   ]
  },
  {
   "cell_type": "code",
   "execution_count": 34,
   "id": "051cb825",
   "metadata": {},
   "outputs": [
    {
     "data": {
      "text/plain": [
       "(2372, 5)"
      ]
     },
     "execution_count": 34,
     "metadata": {},
     "output_type": "execute_result"
    }
   ],
   "source": [
    "daily.shape"
   ]
  },
  {
   "cell_type": "markdown",
   "id": "ce7bc82c-eade-40fd-bf12-1dba264f1af5",
   "metadata": {},
   "source": [
    "# Extracting inidependent variables from date (to convert multivariate) from hourly basis"
   ]
  },
  {
   "cell_type": "code",
   "execution_count": 35,
   "id": "8fe939b7",
   "metadata": {},
   "outputs": [],
   "source": [
    "hourly=uber_df.resample('60Min',on='pickup_datetime').sum()"
   ]
  },
  {
   "cell_type": "code",
   "execution_count": 36,
   "id": "0c20d142",
   "metadata": {},
   "outputs": [
    {
     "data": {
      "text/html": [
       "<div>\n",
       "<style scoped>\n",
       "    .dataframe tbody tr th:only-of-type {\n",
       "        vertical-align: middle;\n",
       "    }\n",
       "\n",
       "    .dataframe tbody tr th {\n",
       "        vertical-align: top;\n",
       "    }\n",
       "\n",
       "    .dataframe thead th {\n",
       "        text-align: right;\n",
       "    }\n",
       "</style>\n",
       "<table border=\"1\" class=\"dataframe\">\n",
       "  <thead>\n",
       "    <tr style=\"text-align: right;\">\n",
       "      <th></th>\n",
       "      <th>fare_amount</th>\n",
       "      <th>passenger_count</th>\n",
       "    </tr>\n",
       "    <tr>\n",
       "      <th>pickup_datetime</th>\n",
       "      <th></th>\n",
       "      <th></th>\n",
       "    </tr>\n",
       "  </thead>\n",
       "  <tbody>\n",
       "    <tr>\n",
       "      <th>2009-01-01 01:00:00</th>\n",
       "      <td>21.5</td>\n",
       "      <td>4</td>\n",
       "    </tr>\n",
       "    <tr>\n",
       "      <th>2009-01-01 02:00:00</th>\n",
       "      <td>44.9</td>\n",
       "      <td>9</td>\n",
       "    </tr>\n",
       "    <tr>\n",
       "      <th>2009-01-01 03:00:00</th>\n",
       "      <td>17.8</td>\n",
       "      <td>4</td>\n",
       "    </tr>\n",
       "    <tr>\n",
       "      <th>2009-01-01 04:00:00</th>\n",
       "      <td>39.2</td>\n",
       "      <td>5</td>\n",
       "    </tr>\n",
       "    <tr>\n",
       "      <th>2009-01-01 05:00:00</th>\n",
       "      <td>14.2</td>\n",
       "      <td>1</td>\n",
       "    </tr>\n",
       "  </tbody>\n",
       "</table>\n",
       "</div>"
      ],
      "text/plain": [
       "                     fare_amount  passenger_count\n",
       "pickup_datetime                                  \n",
       "2009-01-01 01:00:00         21.5                4\n",
       "2009-01-01 02:00:00         44.9                9\n",
       "2009-01-01 03:00:00         17.8                4\n",
       "2009-01-01 04:00:00         39.2                5\n",
       "2009-01-01 05:00:00         14.2                1"
      ]
     },
     "execution_count": 36,
     "metadata": {},
     "output_type": "execute_result"
    }
   ],
   "source": [
    "hourly.head()"
   ]
  },
  {
   "cell_type": "code",
   "execution_count": 37,
   "id": "cedb98ef",
   "metadata": {},
   "outputs": [],
   "source": [
    "hourly=hourly.reset_index()"
   ]
  },
  {
   "cell_type": "code",
   "execution_count": 38,
   "id": "240ea7dc",
   "metadata": {},
   "outputs": [],
   "source": [
    "hourly['weekday']=hourly.pickup_datetime.dt.weekday"
   ]
  },
  {
   "cell_type": "code",
   "execution_count": 39,
   "id": "e0c24fcc",
   "metadata": {},
   "outputs": [],
   "source": [
    "hourly['hour']=hourly.pickup_datetime.dt.hour"
   ]
  },
  {
   "cell_type": "code",
   "execution_count": 40,
   "id": "a87a56fb",
   "metadata": {},
   "outputs": [],
   "source": [
    "hourly['month']=hourly.pickup_datetime.dt.month"
   ]
  },
  {
   "cell_type": "code",
   "execution_count": 41,
   "id": "12e678b0",
   "metadata": {},
   "outputs": [],
   "source": [
    "hourly['quarter']=hourly.pickup_datetime.dt.quarter"
   ]
  },
  {
   "cell_type": "code",
   "execution_count": 42,
   "id": "bafb3f38",
   "metadata": {},
   "outputs": [],
   "source": [
    "hourly['year']=hourly.pickup_datetime.dt.year"
   ]
  },
  {
   "cell_type": "code",
   "execution_count": 43,
   "id": "adf97660",
   "metadata": {},
   "outputs": [
    {
     "data": {
      "text/html": [
       "<div>\n",
       "<style scoped>\n",
       "    .dataframe tbody tr th:only-of-type {\n",
       "        vertical-align: middle;\n",
       "    }\n",
       "\n",
       "    .dataframe tbody tr th {\n",
       "        vertical-align: top;\n",
       "    }\n",
       "\n",
       "    .dataframe thead th {\n",
       "        text-align: right;\n",
       "    }\n",
       "</style>\n",
       "<table border=\"1\" class=\"dataframe\">\n",
       "  <thead>\n",
       "    <tr style=\"text-align: right;\">\n",
       "      <th></th>\n",
       "      <th>pickup_datetime</th>\n",
       "      <th>fare_amount</th>\n",
       "      <th>passenger_count</th>\n",
       "      <th>weekday</th>\n",
       "      <th>hour</th>\n",
       "      <th>month</th>\n",
       "      <th>quarter</th>\n",
       "      <th>year</th>\n",
       "    </tr>\n",
       "  </thead>\n",
       "  <tbody>\n",
       "    <tr>\n",
       "      <th>0</th>\n",
       "      <td>2009-01-01 01:00:00</td>\n",
       "      <td>21.5</td>\n",
       "      <td>4</td>\n",
       "      <td>3</td>\n",
       "      <td>1</td>\n",
       "      <td>1</td>\n",
       "      <td>1</td>\n",
       "      <td>2009</td>\n",
       "    </tr>\n",
       "    <tr>\n",
       "      <th>1</th>\n",
       "      <td>2009-01-01 02:00:00</td>\n",
       "      <td>44.9</td>\n",
       "      <td>9</td>\n",
       "      <td>3</td>\n",
       "      <td>2</td>\n",
       "      <td>1</td>\n",
       "      <td>1</td>\n",
       "      <td>2009</td>\n",
       "    </tr>\n",
       "    <tr>\n",
       "      <th>2</th>\n",
       "      <td>2009-01-01 03:00:00</td>\n",
       "      <td>17.8</td>\n",
       "      <td>4</td>\n",
       "      <td>3</td>\n",
       "      <td>3</td>\n",
       "      <td>1</td>\n",
       "      <td>1</td>\n",
       "      <td>2009</td>\n",
       "    </tr>\n",
       "    <tr>\n",
       "      <th>3</th>\n",
       "      <td>2009-01-01 04:00:00</td>\n",
       "      <td>39.2</td>\n",
       "      <td>5</td>\n",
       "      <td>3</td>\n",
       "      <td>4</td>\n",
       "      <td>1</td>\n",
       "      <td>1</td>\n",
       "      <td>2009</td>\n",
       "    </tr>\n",
       "    <tr>\n",
       "      <th>4</th>\n",
       "      <td>2009-01-01 05:00:00</td>\n",
       "      <td>14.2</td>\n",
       "      <td>1</td>\n",
       "      <td>3</td>\n",
       "      <td>5</td>\n",
       "      <td>1</td>\n",
       "      <td>1</td>\n",
       "      <td>2009</td>\n",
       "    </tr>\n",
       "  </tbody>\n",
       "</table>\n",
       "</div>"
      ],
      "text/plain": [
       "      pickup_datetime  fare_amount  passenger_count  weekday  hour  month  \\\n",
       "0 2009-01-01 01:00:00         21.5                4        3     1      1   \n",
       "1 2009-01-01 02:00:00         44.9                9        3     2      1   \n",
       "2 2009-01-01 03:00:00         17.8                4        3     3      1   \n",
       "3 2009-01-01 04:00:00         39.2                5        3     4      1   \n",
       "4 2009-01-01 05:00:00         14.2                1        3     5      1   \n",
       "\n",
       "   quarter  year  \n",
       "0        1  2009  \n",
       "1        1  2009  \n",
       "2        1  2009  \n",
       "3        1  2009  \n",
       "4        1  2009  "
      ]
     },
     "execution_count": 43,
     "metadata": {},
     "output_type": "execute_result"
    }
   ],
   "source": [
    "hourly.head()"
   ]
  },
  {
   "cell_type": "raw",
   "id": "3469a0d4-c003-4383-b159-cdafe05e93bf",
   "metadata": {},
   "source": [
    "spring march-1 to may-31\n",
    "Summer june-1 to august 31\n",
    "fall(autumn) \n",
    "\n",
    "if statement\n",
    "create a variable called season based on the month\n",
    "create variable Daytime-Morning, afternoon, evening, Night based on hour"
   ]
  },
  {
   "cell_type": "code",
   "execution_count": 44,
   "id": "1173b101",
   "metadata": {},
   "outputs": [],
   "source": [
    "def get_season(dt):\n",
    "    if dt.month in [3, 4, 5]:\n",
    "        return 'Spring'\n",
    "    elif dt.month in [6, 7, 8]:\n",
    "        return 'Summer'\n",
    "    elif dt.month in [9, 10, 11]:\n",
    "        return 'Fall'\n",
    "    else:\n",
    "        return 'Winter'\n",
    "\n",
    "# Apply the function to create the 'season' column\n",
    "hourly['season'] = hourly['pickup_datetime'].apply(get_season)"
   ]
  },
  {
   "cell_type": "code",
   "execution_count": 45,
   "id": "97ef7327",
   "metadata": {},
   "outputs": [
    {
     "data": {
      "text/html": [
       "<div>\n",
       "<style scoped>\n",
       "    .dataframe tbody tr th:only-of-type {\n",
       "        vertical-align: middle;\n",
       "    }\n",
       "\n",
       "    .dataframe tbody tr th {\n",
       "        vertical-align: top;\n",
       "    }\n",
       "\n",
       "    .dataframe thead th {\n",
       "        text-align: right;\n",
       "    }\n",
       "</style>\n",
       "<table border=\"1\" class=\"dataframe\">\n",
       "  <thead>\n",
       "    <tr style=\"text-align: right;\">\n",
       "      <th></th>\n",
       "      <th>pickup_datetime</th>\n",
       "      <th>fare_amount</th>\n",
       "      <th>passenger_count</th>\n",
       "      <th>weekday</th>\n",
       "      <th>hour</th>\n",
       "      <th>month</th>\n",
       "      <th>quarter</th>\n",
       "      <th>year</th>\n",
       "      <th>season</th>\n",
       "    </tr>\n",
       "  </thead>\n",
       "  <tbody>\n",
       "    <tr>\n",
       "      <th>0</th>\n",
       "      <td>2009-01-01 01:00:00</td>\n",
       "      <td>21.5</td>\n",
       "      <td>4</td>\n",
       "      <td>3</td>\n",
       "      <td>1</td>\n",
       "      <td>1</td>\n",
       "      <td>1</td>\n",
       "      <td>2009</td>\n",
       "      <td>Winter</td>\n",
       "    </tr>\n",
       "    <tr>\n",
       "      <th>1</th>\n",
       "      <td>2009-01-01 02:00:00</td>\n",
       "      <td>44.9</td>\n",
       "      <td>9</td>\n",
       "      <td>3</td>\n",
       "      <td>2</td>\n",
       "      <td>1</td>\n",
       "      <td>1</td>\n",
       "      <td>2009</td>\n",
       "      <td>Winter</td>\n",
       "    </tr>\n",
       "    <tr>\n",
       "      <th>2</th>\n",
       "      <td>2009-01-01 03:00:00</td>\n",
       "      <td>17.8</td>\n",
       "      <td>4</td>\n",
       "      <td>3</td>\n",
       "      <td>3</td>\n",
       "      <td>1</td>\n",
       "      <td>1</td>\n",
       "      <td>2009</td>\n",
       "      <td>Winter</td>\n",
       "    </tr>\n",
       "    <tr>\n",
       "      <th>3</th>\n",
       "      <td>2009-01-01 04:00:00</td>\n",
       "      <td>39.2</td>\n",
       "      <td>5</td>\n",
       "      <td>3</td>\n",
       "      <td>4</td>\n",
       "      <td>1</td>\n",
       "      <td>1</td>\n",
       "      <td>2009</td>\n",
       "      <td>Winter</td>\n",
       "    </tr>\n",
       "    <tr>\n",
       "      <th>4</th>\n",
       "      <td>2009-01-01 05:00:00</td>\n",
       "      <td>14.2</td>\n",
       "      <td>1</td>\n",
       "      <td>3</td>\n",
       "      <td>5</td>\n",
       "      <td>1</td>\n",
       "      <td>1</td>\n",
       "      <td>2009</td>\n",
       "      <td>Winter</td>\n",
       "    </tr>\n",
       "  </tbody>\n",
       "</table>\n",
       "</div>"
      ],
      "text/plain": [
       "      pickup_datetime  fare_amount  passenger_count  weekday  hour  month  \\\n",
       "0 2009-01-01 01:00:00         21.5                4        3     1      1   \n",
       "1 2009-01-01 02:00:00         44.9                9        3     2      1   \n",
       "2 2009-01-01 03:00:00         17.8                4        3     3      1   \n",
       "3 2009-01-01 04:00:00         39.2                5        3     4      1   \n",
       "4 2009-01-01 05:00:00         14.2                1        3     5      1   \n",
       "\n",
       "   quarter  year  season  \n",
       "0        1  2009  Winter  \n",
       "1        1  2009  Winter  \n",
       "2        1  2009  Winter  \n",
       "3        1  2009  Winter  \n",
       "4        1  2009  Winter  "
      ]
     },
     "execution_count": 45,
     "metadata": {},
     "output_type": "execute_result"
    }
   ],
   "source": [
    "hourly.head()"
   ]
  },
  {
   "cell_type": "code",
   "execution_count": 46,
   "id": "73b5f82a",
   "metadata": {},
   "outputs": [
    {
     "data": {
      "text/plain": [
       "Spring    15456\n",
       "Winter    14399\n",
       "Summer    13968\n",
       "Fall      13104\n",
       "Name: season, dtype: int64"
      ]
     },
     "execution_count": 46,
     "metadata": {},
     "output_type": "execute_result"
    }
   ],
   "source": [
    "hourly.season.value_counts()"
   ]
  },
  {
   "cell_type": "code",
   "execution_count": 47,
   "id": "bfebc13b",
   "metadata": {},
   "outputs": [],
   "source": [
    "# Define a function to categorize hours\n",
    "def categorize_hour(hour):\n",
    "    if 5 <= hour < 12:\n",
    "        return 'Morning'\n",
    "    elif 12 <= hour < 17: \n",
    "        return 'Afternoon'\n",
    "    elif 17 <= hour < 21:\n",
    "        return 'Evening'\n",
    "    else:\n",
    "        return 'Night'\n",
    "\n",
    "# Apply the function to create the 'Daytime' column\n",
    "hourly['Daytime'] = hourly['pickup_datetime'].dt.hour.apply(categorize_hour)"
   ]
  },
  {
   "cell_type": "code",
   "execution_count": 48,
   "id": "5d2458f4",
   "metadata": {},
   "outputs": [
    {
     "data": {
      "text/html": [
       "<div>\n",
       "<style scoped>\n",
       "    .dataframe tbody tr th:only-of-type {\n",
       "        vertical-align: middle;\n",
       "    }\n",
       "\n",
       "    .dataframe tbody tr th {\n",
       "        vertical-align: top;\n",
       "    }\n",
       "\n",
       "    .dataframe thead th {\n",
       "        text-align: right;\n",
       "    }\n",
       "</style>\n",
       "<table border=\"1\" class=\"dataframe\">\n",
       "  <thead>\n",
       "    <tr style=\"text-align: right;\">\n",
       "      <th></th>\n",
       "      <th>pickup_datetime</th>\n",
       "      <th>fare_amount</th>\n",
       "      <th>passenger_count</th>\n",
       "      <th>weekday</th>\n",
       "      <th>hour</th>\n",
       "      <th>month</th>\n",
       "      <th>quarter</th>\n",
       "      <th>year</th>\n",
       "      <th>season</th>\n",
       "      <th>Daytime</th>\n",
       "    </tr>\n",
       "  </thead>\n",
       "  <tbody>\n",
       "    <tr>\n",
       "      <th>0</th>\n",
       "      <td>2009-01-01 01:00:00</td>\n",
       "      <td>21.5</td>\n",
       "      <td>4</td>\n",
       "      <td>3</td>\n",
       "      <td>1</td>\n",
       "      <td>1</td>\n",
       "      <td>1</td>\n",
       "      <td>2009</td>\n",
       "      <td>Winter</td>\n",
       "      <td>Night</td>\n",
       "    </tr>\n",
       "    <tr>\n",
       "      <th>1</th>\n",
       "      <td>2009-01-01 02:00:00</td>\n",
       "      <td>44.9</td>\n",
       "      <td>9</td>\n",
       "      <td>3</td>\n",
       "      <td>2</td>\n",
       "      <td>1</td>\n",
       "      <td>1</td>\n",
       "      <td>2009</td>\n",
       "      <td>Winter</td>\n",
       "      <td>Night</td>\n",
       "    </tr>\n",
       "    <tr>\n",
       "      <th>2</th>\n",
       "      <td>2009-01-01 03:00:00</td>\n",
       "      <td>17.8</td>\n",
       "      <td>4</td>\n",
       "      <td>3</td>\n",
       "      <td>3</td>\n",
       "      <td>1</td>\n",
       "      <td>1</td>\n",
       "      <td>2009</td>\n",
       "      <td>Winter</td>\n",
       "      <td>Night</td>\n",
       "    </tr>\n",
       "    <tr>\n",
       "      <th>3</th>\n",
       "      <td>2009-01-01 04:00:00</td>\n",
       "      <td>39.2</td>\n",
       "      <td>5</td>\n",
       "      <td>3</td>\n",
       "      <td>4</td>\n",
       "      <td>1</td>\n",
       "      <td>1</td>\n",
       "      <td>2009</td>\n",
       "      <td>Winter</td>\n",
       "      <td>Night</td>\n",
       "    </tr>\n",
       "    <tr>\n",
       "      <th>4</th>\n",
       "      <td>2009-01-01 05:00:00</td>\n",
       "      <td>14.2</td>\n",
       "      <td>1</td>\n",
       "      <td>3</td>\n",
       "      <td>5</td>\n",
       "      <td>1</td>\n",
       "      <td>1</td>\n",
       "      <td>2009</td>\n",
       "      <td>Winter</td>\n",
       "      <td>Morning</td>\n",
       "    </tr>\n",
       "  </tbody>\n",
       "</table>\n",
       "</div>"
      ],
      "text/plain": [
       "      pickup_datetime  fare_amount  passenger_count  weekday  hour  month  \\\n",
       "0 2009-01-01 01:00:00         21.5                4        3     1      1   \n",
       "1 2009-01-01 02:00:00         44.9                9        3     2      1   \n",
       "2 2009-01-01 03:00:00         17.8                4        3     3      1   \n",
       "3 2009-01-01 04:00:00         39.2                5        3     4      1   \n",
       "4 2009-01-01 05:00:00         14.2                1        3     5      1   \n",
       "\n",
       "   quarter  year  season  Daytime  \n",
       "0        1  2009  Winter    Night  \n",
       "1        1  2009  Winter    Night  \n",
       "2        1  2009  Winter    Night  \n",
       "3        1  2009  Winter    Night  \n",
       "4        1  2009  Winter  Morning  "
      ]
     },
     "execution_count": 48,
     "metadata": {},
     "output_type": "execute_result"
    }
   ],
   "source": [
    "hourly.head()"
   ]
  },
  {
   "cell_type": "code",
   "execution_count": 49,
   "id": "57a41491",
   "metadata": {},
   "outputs": [
    {
     "name": "stdout",
     "output_type": "stream",
     "text": [
      "<class 'pandas.core.frame.DataFrame'>\n",
      "RangeIndex: 56927 entries, 0 to 56926\n",
      "Data columns (total 10 columns):\n",
      " #   Column           Non-Null Count  Dtype         \n",
      "---  ------           --------------  -----         \n",
      " 0   pickup_datetime  56927 non-null  datetime64[ns]\n",
      " 1   fare_amount      56927 non-null  float64       \n",
      " 2   passenger_count  56927 non-null  int64         \n",
      " 3   weekday          56927 non-null  int64         \n",
      " 4   hour             56927 non-null  int64         \n",
      " 5   month            56927 non-null  int64         \n",
      " 6   quarter          56927 non-null  int64         \n",
      " 7   year             56927 non-null  int64         \n",
      " 8   season           56927 non-null  object        \n",
      " 9   Daytime          56927 non-null  object        \n",
      "dtypes: datetime64[ns](1), float64(1), int64(6), object(2)\n",
      "memory usage: 4.3+ MB\n"
     ]
    }
   ],
   "source": [
    "hourly.info()"
   ]
  },
  {
   "cell_type": "code",
   "execution_count": 50,
   "id": "b9d6bedb",
   "metadata": {},
   "outputs": [
    {
     "data": {
      "text/plain": [
       "Night        18975\n",
       "Morning      16604\n",
       "Afternoon    11860\n",
       "Evening       9488\n",
       "Name: Daytime, dtype: int64"
      ]
     },
     "execution_count": 50,
     "metadata": {},
     "output_type": "execute_result"
    }
   ],
   "source": [
    "hourly.Daytime.value_counts()"
   ]
  },
  {
   "cell_type": "code",
   "execution_count": 51,
   "id": "318c667e",
   "metadata": {},
   "outputs": [],
   "source": [
    "hourly=pd.get_dummies(hourly,columns=['weekday','hour','quarter','year','season','Daytime'])"
   ]
  },
  {
   "cell_type": "code",
   "execution_count": 52,
   "id": "87865ea7",
   "metadata": {},
   "outputs": [
    {
     "data": {
      "text/html": [
       "<div>\n",
       "<style scoped>\n",
       "    .dataframe tbody tr th:only-of-type {\n",
       "        vertical-align: middle;\n",
       "    }\n",
       "\n",
       "    .dataframe tbody tr th {\n",
       "        vertical-align: top;\n",
       "    }\n",
       "\n",
       "    .dataframe thead th {\n",
       "        text-align: right;\n",
       "    }\n",
       "</style>\n",
       "<table border=\"1\" class=\"dataframe\">\n",
       "  <thead>\n",
       "    <tr style=\"text-align: right;\">\n",
       "      <th></th>\n",
       "      <th>pickup_datetime</th>\n",
       "      <th>fare_amount</th>\n",
       "      <th>passenger_count</th>\n",
       "      <th>month</th>\n",
       "      <th>weekday_0</th>\n",
       "      <th>weekday_1</th>\n",
       "      <th>weekday_2</th>\n",
       "      <th>weekday_3</th>\n",
       "      <th>weekday_4</th>\n",
       "      <th>weekday_5</th>\n",
       "      <th>...</th>\n",
       "      <th>year_2014</th>\n",
       "      <th>year_2015</th>\n",
       "      <th>season_Fall</th>\n",
       "      <th>season_Spring</th>\n",
       "      <th>season_Summer</th>\n",
       "      <th>season_Winter</th>\n",
       "      <th>Daytime_Afternoon</th>\n",
       "      <th>Daytime_Evening</th>\n",
       "      <th>Daytime_Morning</th>\n",
       "      <th>Daytime_Night</th>\n",
       "    </tr>\n",
       "  </thead>\n",
       "  <tbody>\n",
       "    <tr>\n",
       "      <th>0</th>\n",
       "      <td>2009-01-01 01:00:00</td>\n",
       "      <td>21.5</td>\n",
       "      <td>4</td>\n",
       "      <td>1</td>\n",
       "      <td>0</td>\n",
       "      <td>0</td>\n",
       "      <td>0</td>\n",
       "      <td>1</td>\n",
       "      <td>0</td>\n",
       "      <td>0</td>\n",
       "      <td>...</td>\n",
       "      <td>0</td>\n",
       "      <td>0</td>\n",
       "      <td>0</td>\n",
       "      <td>0</td>\n",
       "      <td>0</td>\n",
       "      <td>1</td>\n",
       "      <td>0</td>\n",
       "      <td>0</td>\n",
       "      <td>0</td>\n",
       "      <td>1</td>\n",
       "    </tr>\n",
       "    <tr>\n",
       "      <th>1</th>\n",
       "      <td>2009-01-01 02:00:00</td>\n",
       "      <td>44.9</td>\n",
       "      <td>9</td>\n",
       "      <td>1</td>\n",
       "      <td>0</td>\n",
       "      <td>0</td>\n",
       "      <td>0</td>\n",
       "      <td>1</td>\n",
       "      <td>0</td>\n",
       "      <td>0</td>\n",
       "      <td>...</td>\n",
       "      <td>0</td>\n",
       "      <td>0</td>\n",
       "      <td>0</td>\n",
       "      <td>0</td>\n",
       "      <td>0</td>\n",
       "      <td>1</td>\n",
       "      <td>0</td>\n",
       "      <td>0</td>\n",
       "      <td>0</td>\n",
       "      <td>1</td>\n",
       "    </tr>\n",
       "    <tr>\n",
       "      <th>2</th>\n",
       "      <td>2009-01-01 03:00:00</td>\n",
       "      <td>17.8</td>\n",
       "      <td>4</td>\n",
       "      <td>1</td>\n",
       "      <td>0</td>\n",
       "      <td>0</td>\n",
       "      <td>0</td>\n",
       "      <td>1</td>\n",
       "      <td>0</td>\n",
       "      <td>0</td>\n",
       "      <td>...</td>\n",
       "      <td>0</td>\n",
       "      <td>0</td>\n",
       "      <td>0</td>\n",
       "      <td>0</td>\n",
       "      <td>0</td>\n",
       "      <td>1</td>\n",
       "      <td>0</td>\n",
       "      <td>0</td>\n",
       "      <td>0</td>\n",
       "      <td>1</td>\n",
       "    </tr>\n",
       "    <tr>\n",
       "      <th>3</th>\n",
       "      <td>2009-01-01 04:00:00</td>\n",
       "      <td>39.2</td>\n",
       "      <td>5</td>\n",
       "      <td>1</td>\n",
       "      <td>0</td>\n",
       "      <td>0</td>\n",
       "      <td>0</td>\n",
       "      <td>1</td>\n",
       "      <td>0</td>\n",
       "      <td>0</td>\n",
       "      <td>...</td>\n",
       "      <td>0</td>\n",
       "      <td>0</td>\n",
       "      <td>0</td>\n",
       "      <td>0</td>\n",
       "      <td>0</td>\n",
       "      <td>1</td>\n",
       "      <td>0</td>\n",
       "      <td>0</td>\n",
       "      <td>0</td>\n",
       "      <td>1</td>\n",
       "    </tr>\n",
       "    <tr>\n",
       "      <th>4</th>\n",
       "      <td>2009-01-01 05:00:00</td>\n",
       "      <td>14.2</td>\n",
       "      <td>1</td>\n",
       "      <td>1</td>\n",
       "      <td>0</td>\n",
       "      <td>0</td>\n",
       "      <td>0</td>\n",
       "      <td>1</td>\n",
       "      <td>0</td>\n",
       "      <td>0</td>\n",
       "      <td>...</td>\n",
       "      <td>0</td>\n",
       "      <td>0</td>\n",
       "      <td>0</td>\n",
       "      <td>0</td>\n",
       "      <td>0</td>\n",
       "      <td>1</td>\n",
       "      <td>0</td>\n",
       "      <td>0</td>\n",
       "      <td>1</td>\n",
       "      <td>0</td>\n",
       "    </tr>\n",
       "  </tbody>\n",
       "</table>\n",
       "<p>5 rows × 54 columns</p>\n",
       "</div>"
      ],
      "text/plain": [
       "      pickup_datetime  fare_amount  passenger_count  month  weekday_0  \\\n",
       "0 2009-01-01 01:00:00         21.5                4      1          0   \n",
       "1 2009-01-01 02:00:00         44.9                9      1          0   \n",
       "2 2009-01-01 03:00:00         17.8                4      1          0   \n",
       "3 2009-01-01 04:00:00         39.2                5      1          0   \n",
       "4 2009-01-01 05:00:00         14.2                1      1          0   \n",
       "\n",
       "   weekday_1  weekday_2  weekday_3  weekday_4  weekday_5  ...  year_2014  \\\n",
       "0          0          0          1          0          0  ...          0   \n",
       "1          0          0          1          0          0  ...          0   \n",
       "2          0          0          1          0          0  ...          0   \n",
       "3          0          0          1          0          0  ...          0   \n",
       "4          0          0          1          0          0  ...          0   \n",
       "\n",
       "   year_2015  season_Fall  season_Spring  season_Summer  season_Winter  \\\n",
       "0          0            0              0              0              1   \n",
       "1          0            0              0              0              1   \n",
       "2          0            0              0              0              1   \n",
       "3          0            0              0              0              1   \n",
       "4          0            0              0              0              1   \n",
       "\n",
       "   Daytime_Afternoon  Daytime_Evening  Daytime_Morning  Daytime_Night  \n",
       "0                  0                0                0              1  \n",
       "1                  0                0                0              1  \n",
       "2                  0                0                0              1  \n",
       "3                  0                0                0              1  \n",
       "4                  0                0                1              0  \n",
       "\n",
       "[5 rows x 54 columns]"
      ]
     },
     "execution_count": 52,
     "metadata": {},
     "output_type": "execute_result"
    }
   ],
   "source": [
    "hourly.head()"
   ]
  },
  {
   "cell_type": "code",
   "execution_count": 53,
   "id": "85c20c29",
   "metadata": {},
   "outputs": [],
   "source": [
    "hourly=hourly.replace({False: 0, True: 1})"
   ]
  },
  {
   "cell_type": "code",
   "execution_count": 54,
   "id": "3f834992",
   "metadata": {},
   "outputs": [
    {
     "data": {
      "text/html": [
       "<div>\n",
       "<style scoped>\n",
       "    .dataframe tbody tr th:only-of-type {\n",
       "        vertical-align: middle;\n",
       "    }\n",
       "\n",
       "    .dataframe tbody tr th {\n",
       "        vertical-align: top;\n",
       "    }\n",
       "\n",
       "    .dataframe thead th {\n",
       "        text-align: right;\n",
       "    }\n",
       "</style>\n",
       "<table border=\"1\" class=\"dataframe\">\n",
       "  <thead>\n",
       "    <tr style=\"text-align: right;\">\n",
       "      <th></th>\n",
       "      <th>fare_amount</th>\n",
       "      <th>passenger_count</th>\n",
       "    </tr>\n",
       "  </thead>\n",
       "  <tbody>\n",
       "    <tr>\n",
       "      <th>fare_amount</th>\n",
       "      <td>1.000000</td>\n",
       "      <td>0.691062</td>\n",
       "    </tr>\n",
       "    <tr>\n",
       "      <th>passenger_count</th>\n",
       "      <td>0.691062</td>\n",
       "      <td>1.000000</td>\n",
       "    </tr>\n",
       "  </tbody>\n",
       "</table>\n",
       "</div>"
      ],
      "text/plain": [
       "                 fare_amount  passenger_count\n",
       "fare_amount         1.000000         0.691062\n",
       "passenger_count     0.691062         1.000000"
      ]
     },
     "execution_count": 54,
     "metadata": {},
     "output_type": "execute_result"
    }
   ],
   "source": [
    "hourly[['fare_amount','passenger_count']].corr()"
   ]
  },
  {
   "cell_type": "code",
   "execution_count": 55,
   "id": "e5b3bcbe",
   "metadata": {},
   "outputs": [],
   "source": [
    "uber_nonzero=hourly[hourly.fare_amount!=0]"
   ]
  },
  {
   "cell_type": "code",
   "execution_count": 56,
   "id": "6a1d7418",
   "metadata": {},
   "outputs": [],
   "source": [
    "y=hourly.fare_amount\n",
    "X=hourly.drop(['pickup_datetime','fare_amount'],axis=1)"
   ]
  },
  {
   "cell_type": "code",
   "execution_count": 57,
   "id": "191a2b58",
   "metadata": {},
   "outputs": [
    {
     "data": {
      "text/plain": [
       "<Axes: >"
      ]
     },
     "execution_count": 57,
     "metadata": {},
     "output_type": "execute_result"
    },
    {
     "data": {
      "image/png": "[encoded data removed]",
      "text/plain": [
       "<Figure size 640x480 with 1 Axes>"
      ]
     },
     "metadata": {},
     "output_type": "display_data"
    }
   ],
   "source": [
    "y.plot(kind='box',vert=False)"
   ]
  },
  {
   "cell_type": "code",
   "execution_count": 58,
   "id": "84b43a56",
   "metadata": {},
   "outputs": [
    {
     "name": "stderr",
     "output_type": "stream",
     "text": [
      "C:\\Users\\Eswar Aditya\\anaconda3\\Lib\\site-packages\\pandas\\core\\arraylike.py:402: RuntimeWarning: divide by zero encountered in log\n",
      "  result = getattr(ufunc, method)(*inputs, **kwargs)\n",
      "C:\\Users\\Eswar Aditya\\anaconda3\\Lib\\site-packages\\pandas\\core\\arraylike.py:402: RuntimeWarning: invalid value encountered in log\n",
      "  result = getattr(ufunc, method)(*inputs, **kwargs)\n"
     ]
    },
    {
     "data": {
      "text/plain": [
       "<Axes: >"
      ]
     },
     "execution_count": 58,
     "metadata": {},
     "output_type": "execute_result"
    },
    {
     "data": {
      "image/png": "[encoded data removed]",
      "text/plain": [
       "<Figure size 640x480 with 1 Axes>"
      ]
     },
     "metadata": {},
     "output_type": "display_data"
    }
   ],
   "source": [
    "np.log(y).plot(kind='box',vert=False)"
   ]
  },
  {
   "cell_type": "code",
   "execution_count": 67,
   "id": "968fa9df",
   "metadata": {},
   "outputs": [
    {
     "name": "stderr",
     "output_type": "stream",
     "text": [
      "C:\\Users\\Eswar Aditya\\anaconda3\\Lib\\site-packages\\pandas\\core\\arraylike.py:402: RuntimeWarning: invalid value encountered in log1p\n",
      "  result = getattr(ufunc, method)(*inputs, **kwargs)\n"
     ]
    },
    {
     "data": {
      "text/plain": [
       "3"
      ]
     },
     "execution_count": 67,
     "metadata": {},
     "output_type": "execute_result"
    }
   ],
   "source": [
    "np.log1p(y).isnull().sum()"
   ]
  },
  {
   "cell_type": "markdown",
   "id": "08b54ead",
   "metadata": {},
   "source": [
    "## Linear Regression "
   ]
  },
  {
   "cell_type": "code",
   "execution_count": 59,
   "id": "52d8561e",
   "metadata": {},
   "outputs": [],
   "source": [
    "from sklearn.linear_model import LinearRegression"
   ]
  },
  {
   "cell_type": "code",
   "execution_count": 60,
   "id": "40d14253",
   "metadata": {},
   "outputs": [],
   "source": [
    "reg=LinearRegression()"
   ]
  },
  {
   "cell_type": "code",
   "execution_count": 61,
   "id": "ef8ef7f2",
   "metadata": {},
   "outputs": [],
   "source": [
    "regmodel=reg.fit(X,y)"
   ]
  },
  {
   "cell_type": "code",
   "execution_count": 62,
   "id": "ab35b00a",
   "metadata": {},
   "outputs": [
    {
     "data": {
      "text/plain": [
       "0.5086861995349856"
      ]
     },
     "execution_count": 62,
     "metadata": {},
     "output_type": "execute_result"
    }
   ],
   "source": [
    "regmodel.score(X,y)"
   ]
  },
  {
   "cell_type": "code",
   "execution_count": 68,
   "id": "8598eb03",
   "metadata": {},
   "outputs": [
    {
     "data": {
      "text/plain": [
       "0.5086861995349856"
      ]
     },
     "execution_count": 68,
     "metadata": {},
     "output_type": "execute_result"
    }
   ],
   "source": [
    "regmodel.score(X,y)"
   ]
  },
  {
   "cell_type": "code",
   "execution_count": 69,
   "id": "9d3b05e5",
   "metadata": {},
   "outputs": [],
   "source": [
    "from sklearn.model_selection import cross_val_score"
   ]
  },
  {
   "cell_type": "code",
   "execution_count": 70,
   "id": "469d2a3b",
   "metadata": {},
   "outputs": [
    {
     "data": {
      "text/plain": [
       "array([-2.26587109e+24,  4.33061239e-01,  5.18096954e-01, -1.97573917e+19,\n",
       "       -4.66900875e+20])"
      ]
     },
     "execution_count": 70,
     "metadata": {},
     "output_type": "execute_result"
    }
   ],
   "source": [
    "cross_val_score(reg,X,y)"
   ]
  },
  {
   "cell_type": "code",
   "execution_count": 71,
   "id": "c4a2dd5b",
   "metadata": {},
   "outputs": [
    {
     "data": {
      "text/plain": [
       "-4.5327154965334006e+23"
      ]
     },
     "execution_count": 71,
     "metadata": {},
     "output_type": "execute_result"
    }
   ],
   "source": [
    "np.mean([-2.26587109e+24,  4.33061239e-01,  5.18096954e-01, -1.97573917e+19,-4.66900875e+20])"
   ]
  },
  {
   "cell_type": "code",
   "execution_count": 72,
   "id": "b1d4c03f",
   "metadata": {},
   "outputs": [],
   "source": [
    "regpredict=regmodel.predict(X)"
   ]
  },
  {
   "cell_type": "code",
   "execution_count": 73,
   "id": "ae1bb226",
   "metadata": {},
   "outputs": [],
   "source": [
    "regresid=y-regpredict"
   ]
  },
  {
   "cell_type": "code",
   "execution_count": 74,
   "id": "c103915a",
   "metadata": {},
   "outputs": [
    {
     "data": {
      "text/plain": [
       "23.26552629095697"
      ]
     },
     "execution_count": 74,
     "metadata": {},
     "output_type": "execute_result"
    }
   ],
   "source": [
    "np.sqrt(np.mean(regresid**2))"
   ]
  },
  {
   "cell_type": "code",
   "execution_count": null,
   "id": "c6b85265",
   "metadata": {},
   "outputs": [],
   "source": []
  },
  {
   "cell_type": "markdown",
   "id": "edd2e02d",
   "metadata": {},
   "source": [
    "# Decision Tree"
   ]
  },
  {
   "cell_type": "code",
   "execution_count": 75,
   "id": "f5f68ac3",
   "metadata": {},
   "outputs": [],
   "source": [
    "from sklearn.tree import DecisionTreeRegressor"
   ]
  },
  {
   "cell_type": "code",
   "execution_count": 76,
   "id": "214168b9",
   "metadata": {},
   "outputs": [],
   "source": [
    "tree=DecisionTreeRegressor()"
   ]
  },
  {
   "cell_type": "code",
   "execution_count": 77,
   "id": "06b8813f",
   "metadata": {},
   "outputs": [],
   "source": [
    "treemodel=tree.fit(X,y)"
   ]
  },
  {
   "cell_type": "code",
   "execution_count": 78,
   "id": "02585f3a",
   "metadata": {},
   "outputs": [
    {
     "data": {
      "text/plain": [
       "0.9516409166666177"
      ]
     },
     "execution_count": 78,
     "metadata": {},
     "output_type": "execute_result"
    }
   ],
   "source": [
    "treemodel.score(X,y)"
   ]
  },
  {
   "cell_type": "code",
   "execution_count": 79,
   "id": "ea2affad",
   "metadata": {},
   "outputs": [
    {
     "data": {
      "text/plain": [
       "array([-0.26576722,  0.09411365, -0.04396766,  0.14476298,  0.08513613])"
      ]
     },
     "execution_count": 79,
     "metadata": {},
     "output_type": "execute_result"
    }
   ],
   "source": [
    "cross_val_score(tree,X,y)"
   ]
  },
  {
   "cell_type": "code",
   "execution_count": 80,
   "id": "a271533e",
   "metadata": {},
   "outputs": [
    {
     "data": {
      "text/plain": [
       "0.011458439999999995"
      ]
     },
     "execution_count": 80,
     "metadata": {},
     "output_type": "execute_result"
    }
   ],
   "source": [
    "np.mean([-0.21562031,  0.11989609, -0.03465748,  0.15361033,  0.03406357])"
   ]
  },
  {
   "cell_type": "code",
   "execution_count": 81,
   "id": "e32353c5",
   "metadata": {},
   "outputs": [],
   "source": [
    "treepredict=tree.predict(X)"
   ]
  },
  {
   "cell_type": "code",
   "execution_count": 82,
   "id": "5eb18998",
   "metadata": {},
   "outputs": [],
   "source": [
    "treeresid=y-treepredict"
   ]
  },
  {
   "cell_type": "code",
   "execution_count": 83,
   "id": "02619327",
   "metadata": {},
   "outputs": [
    {
     "data": {
      "text/plain": [
       "7.299152369425891"
      ]
     },
     "execution_count": 83,
     "metadata": {},
     "output_type": "execute_result"
    }
   ],
   "source": [
    "np.sqrt(np.mean(treeresid**2))"
   ]
  },
  {
   "cell_type": "code",
   "execution_count": null,
   "id": "70bc5f4e",
   "metadata": {},
   "outputs": [],
   "source": []
  },
  {
   "cell_type": "markdown",
   "id": "d18781b8",
   "metadata": {},
   "source": [
    "# Random Forest"
   ]
  },
  {
   "cell_type": "code",
   "execution_count": 84,
   "id": "401175ba",
   "metadata": {},
   "outputs": [],
   "source": [
    "from sklearn.ensemble import RandomForestRegressor"
   ]
  },
  {
   "cell_type": "code",
   "execution_count": 85,
   "id": "7f5abec8",
   "metadata": {},
   "outputs": [],
   "source": [
    "RF=RandomForestRegressor(n_estimators=1000)"
   ]
  },
  {
   "cell_type": "code",
   "execution_count": 86,
   "id": "2db058b9",
   "metadata": {},
   "outputs": [],
   "source": [
    "rfmodel=RF.fit(X,y)"
   ]
  },
  {
   "cell_type": "code",
   "execution_count": 87,
   "id": "56021169",
   "metadata": {},
   "outputs": [
    {
     "data": {
      "text/plain": [
       "0.8957544904286234"
      ]
     },
     "execution_count": 87,
     "metadata": {},
     "output_type": "execute_result"
    }
   ],
   "source": [
    "rfmodel.score(X,y)"
   ]
  },
  {
   "cell_type": "code",
   "execution_count": 88,
   "id": "7425151f",
   "metadata": {},
   "outputs": [
    {
     "data": {
      "text/plain": [
       "array([0.44312524, 0.49805453, 0.48975309, 0.43306867, 0.43977086])"
      ]
     },
     "execution_count": 88,
     "metadata": {},
     "output_type": "execute_result"
    }
   ],
   "source": [
    "cross_val_score(RF,X,y)"
   ]
  },
  {
   "cell_type": "code",
   "execution_count": 89,
   "id": "a294f53e",
   "metadata": {},
   "outputs": [
    {
     "data": {
      "text/plain": [
       "0.46075447799999997"
      ]
     },
     "execution_count": 89,
     "metadata": {},
     "output_type": "execute_result"
    }
   ],
   "source": [
    "np.mean([0.44312524, 0.49805453, 0.48975309, 0.43306867, 0.43977086])"
   ]
  },
  {
   "cell_type": "code",
   "execution_count": 90,
   "id": "8e5a75ef",
   "metadata": {},
   "outputs": [],
   "source": [
    "rfpredict=rfmodel.predict(X)"
   ]
  },
  {
   "cell_type": "code",
   "execution_count": 91,
   "id": "2241fdf8",
   "metadata": {},
   "outputs": [],
   "source": [
    "rfresid=y-rfpredict"
   ]
  },
  {
   "cell_type": "code",
   "execution_count": 92,
   "id": "e2f6d1bd",
   "metadata": {},
   "outputs": [
    {
     "data": {
      "text/plain": [
       "10.71672478773534"
      ]
     },
     "execution_count": 92,
     "metadata": {},
     "output_type": "execute_result"
    }
   ],
   "source": [
    "np.sqrt(np.mean(rfresid**2))"
   ]
  },
  {
   "cell_type": "code",
   "execution_count": null,
   "id": "8a804f0d",
   "metadata": {},
   "outputs": [],
   "source": []
  },
  {
   "cell_type": "markdown",
   "id": "76e696d8",
   "metadata": {},
   "source": [
    "# Gradient Boosting"
   ]
  },
  {
   "cell_type": "code",
   "execution_count": 93,
   "id": "68111a72",
   "metadata": {},
   "outputs": [],
   "source": [
    "from sklearn.ensemble import GradientBoostingRegressor"
   ]
  },
  {
   "cell_type": "code",
   "execution_count": 107,
   "id": "c50763bb",
   "metadata": {},
   "outputs": [],
   "source": [
    "gbm=GradientBoostingRegressor(max_depth=8,n_estimators=1000)"
   ]
  },
  {
   "cell_type": "code",
   "execution_count": 108,
   "id": "20532e19",
   "metadata": {},
   "outputs": [],
   "source": [
    "gbmmodel=gbm.fit(X,y)"
   ]
  },
  {
   "cell_type": "code",
   "execution_count": 109,
   "id": "7ac5ddec",
   "metadata": {},
   "outputs": [
    {
     "data": {
      "text/plain": [
       "0.8445961112397582"
      ]
     },
     "execution_count": 109,
     "metadata": {},
     "output_type": "execute_result"
    }
   ],
   "source": [
    "gbmmodel.score(X,y)"
   ]
  },
  {
   "cell_type": "code",
   "execution_count": 110,
   "id": "d43f841a",
   "metadata": {},
   "outputs": [
    {
     "data": {
      "text/plain": [
       "array([0.40559533, 0.4128615 , 0.362216  , 0.39966756, 0.35778401])"
      ]
     },
     "execution_count": 110,
     "metadata": {},
     "output_type": "execute_result"
    }
   ],
   "source": [
    "cross_val_score(gbm,X,y)"
   ]
  },
  {
   "cell_type": "code",
   "execution_count": 111,
   "id": "6e7d9231",
   "metadata": {},
   "outputs": [
    {
     "data": {
      "text/plain": [
       "0.38762487999999995"
      ]
     },
     "execution_count": 111,
     "metadata": {},
     "output_type": "execute_result"
    }
   ],
   "source": [
    "np.mean([0.40559533, 0.4128615 , 0.362216  , 0.39966756, 0.35778401])"
   ]
  },
  {
   "cell_type": "code",
   "execution_count": 112,
   "id": "3aa33212",
   "metadata": {},
   "outputs": [],
   "source": [
    "gbmpredict=gbm.predict(X)"
   ]
  },
  {
   "cell_type": "code",
   "execution_count": 113,
   "id": "8c78bc44",
   "metadata": {},
   "outputs": [],
   "source": [
    "gbmresid=y-gbmpredict"
   ]
  },
  {
   "cell_type": "code",
   "execution_count": 114,
   "id": "d4cf7238",
   "metadata": {},
   "outputs": [
    {
     "data": {
      "text/plain": [
       "13.084717200977414"
      ]
     },
     "execution_count": 114,
     "metadata": {},
     "output_type": "execute_result"
    }
   ],
   "source": [
    "np.sqrt(np.mean(gbmresid**2))"
   ]
  },
  {
   "cell_type": "code",
   "execution_count": null,
   "id": "8d6759d0",
   "metadata": {},
   "outputs": [],
   "source": []
  },
  {
   "cell_type": "markdown",
   "id": "388c458e",
   "metadata": {},
   "source": [
    "# SVR"
   ]
  },
  {
   "cell_type": "code",
   "execution_count": 115,
   "id": "c786cbf5",
   "metadata": {},
   "outputs": [],
   "source": [
    "from sklearn.svm import SVR"
   ]
  },
  {
   "cell_type": "code",
   "execution_count": 116,
   "id": "c60f79ba",
   "metadata": {},
   "outputs": [],
   "source": [
    "svr=SVR(C=4)"
   ]
  },
  {
   "cell_type": "code",
   "execution_count": 117,
   "id": "dec8f6ea",
   "metadata": {},
   "outputs": [],
   "source": [
    "svrmodel=svr.fit(X,y)"
   ]
  },
  {
   "cell_type": "code",
   "execution_count": 118,
   "id": "98fd08c7",
   "metadata": {},
   "outputs": [
    {
     "data": {
      "text/plain": [
       "0.5288119958826082"
      ]
     },
     "execution_count": 118,
     "metadata": {},
     "output_type": "execute_result"
    }
   ],
   "source": [
    "svrmodel.score(X,y)"
   ]
  },
  {
   "cell_type": "code",
   "execution_count": 119,
   "id": "84a7e699",
   "metadata": {},
   "outputs": [
    {
     "data": {
      "text/plain": [
       "array([0.56276338, 0.53871073, 0.54811712, 0.45142938, 0.45401615])"
      ]
     },
     "execution_count": 119,
     "metadata": {},
     "output_type": "execute_result"
    }
   ],
   "source": [
    "cross_val_score(svr,X,y)"
   ]
  },
  {
   "cell_type": "code",
   "execution_count": 120,
   "id": "d7b0bcc4",
   "metadata": {},
   "outputs": [
    {
     "data": {
      "text/plain": [
       "0.511007352"
      ]
     },
     "execution_count": 120,
     "metadata": {},
     "output_type": "execute_result"
    }
   ],
   "source": [
    "np.mean([0.56276338, 0.53871073, 0.54811712, 0.45142938, 0.45401615])"
   ]
  },
  {
   "cell_type": "code",
   "execution_count": 121,
   "id": "ea61ee43",
   "metadata": {},
   "outputs": [],
   "source": [
    "Svrpredict=svr.predict(X)"
   ]
  },
  {
   "cell_type": "code",
   "execution_count": 122,
   "id": "aa655d7f",
   "metadata": {},
   "outputs": [],
   "source": [
    "svrresid=y-Svrpredict"
   ]
  },
  {
   "cell_type": "code",
   "execution_count": 123,
   "id": "ab97ff86",
   "metadata": {},
   "outputs": [
    {
     "data": {
      "text/plain": [
       "22.784028345150606"
      ]
     },
     "execution_count": 123,
     "metadata": {},
     "output_type": "execute_result"
    }
   ],
   "source": [
    "np.sqrt(np.mean(svrresid**2))"
   ]
  },
  {
   "cell_type": "code",
   "execution_count": null,
   "id": "cd9481f7",
   "metadata": {},
   "outputs": [],
   "source": []
  },
  {
   "cell_type": "markdown",
   "id": "713ef0d5",
   "metadata": {},
   "source": [
    "# KNN(KNearestNeighbor)"
   ]
  },
  {
   "cell_type": "code",
   "execution_count": 124,
   "id": "abf0ab93",
   "metadata": {},
   "outputs": [],
   "source": [
    "from sklearn.neighbors import KNeighborsRegressor"
   ]
  },
  {
   "cell_type": "code",
   "execution_count": 125,
   "id": "41cf09d1",
   "metadata": {},
   "outputs": [],
   "source": [
    "knr=KNeighborsRegressor()"
   ]
  },
  {
   "cell_type": "code",
   "execution_count": 126,
   "id": "26051433",
   "metadata": {},
   "outputs": [],
   "source": [
    "knrmodel=knr.fit(X,y)"
   ]
  },
  {
   "cell_type": "code",
   "execution_count": 127,
   "id": "159d156c",
   "metadata": {},
   "outputs": [
    {
     "data": {
      "text/plain": [
       "0.6338955713389165"
      ]
     },
     "execution_count": 127,
     "metadata": {},
     "output_type": "execute_result"
    }
   ],
   "source": [
    "knrmodel.score(X,y)"
   ]
  },
  {
   "cell_type": "code",
   "execution_count": 128,
   "id": "97a6eff1",
   "metadata": {},
   "outputs": [
    {
     "data": {
      "text/plain": [
       "array([0.39126096, 0.39833079, 0.45474119, 0.41673557, 0.42071579])"
      ]
     },
     "execution_count": 128,
     "metadata": {},
     "output_type": "execute_result"
    }
   ],
   "source": [
    "cross_val_score(knr,X,y)"
   ]
  },
  {
   "cell_type": "code",
   "execution_count": 129,
   "id": "2cba2052",
   "metadata": {},
   "outputs": [
    {
     "data": {
      "text/plain": [
       "0.41635685999999994"
      ]
     },
     "execution_count": 129,
     "metadata": {},
     "output_type": "execute_result"
    }
   ],
   "source": [
    "np.mean([0.39126096, 0.39833079, 0.45474119, 0.41673557, 0.42071579])"
   ]
  },
  {
   "cell_type": "code",
   "execution_count": 130,
   "id": "6d6b2e91",
   "metadata": {},
   "outputs": [],
   "source": [
    "knrpredict=knrmodel.predict(X)"
   ]
  },
  {
   "cell_type": "code",
   "execution_count": 131,
   "id": "928d3418",
   "metadata": {},
   "outputs": [],
   "source": [
    "knrresid=y-knrpredict"
   ]
  },
  {
   "cell_type": "code",
   "execution_count": 132,
   "id": "7a68cd68",
   "metadata": {},
   "outputs": [
    {
     "data": {
      "text/plain": [
       "20.08333769414311"
      ]
     },
     "execution_count": 132,
     "metadata": {},
     "output_type": "execute_result"
    }
   ],
   "source": [
    "np.sqrt(np.mean(knrresid**2))"
   ]
  },
  {
   "cell_type": "code",
   "execution_count": null,
   "id": "e0aee16d",
   "metadata": {},
   "outputs": [],
   "source": []
  },
  {
   "cell_type": "markdown",
   "id": "b62e9df0-9fd4-4c41-b87a-6cd494fdccce",
   "metadata": {},
   "source": [
    "# XGBoost"
   ]
  },
  {
   "cell_type": "code",
   "execution_count": 133,
   "id": "24df4881-2c3c-4046-b890-de20ca038dc1",
   "metadata": {},
   "outputs": [],
   "source": [
    "from xgboost.sklearn import XGBRegressor"
   ]
  },
  {
   "cell_type": "code",
   "execution_count": 134,
   "id": "45210fcf-eeaf-4505-bfbb-f092a1ac69df",
   "metadata": {},
   "outputs": [],
   "source": [
    "xgbr=XGBRegressor()"
   ]
  },
  {
   "cell_type": "code",
   "execution_count": 135,
   "id": "773fe4bf-6848-4b1c-8f26-f48d968c0df5",
   "metadata": {},
   "outputs": [],
   "source": [
    "xgbr_model=xgbr.fit(X,y)"
   ]
  },
  {
   "cell_type": "code",
   "execution_count": 136,
   "id": "6571a01d-5006-47ee-a4d5-446058d9cf31",
   "metadata": {},
   "outputs": [
    {
     "data": {
      "text/plain": [
       "0.6181770574497178"
      ]
     },
     "execution_count": 136,
     "metadata": {},
     "output_type": "execute_result"
    }
   ],
   "source": [
    "xgbr_model.score(X,y)"
   ]
  },
  {
   "cell_type": "code",
   "execution_count": 137,
   "id": "5639d69b-a84e-4a16-bb6c-25488d118d4b",
   "metadata": {},
   "outputs": [
    {
     "data": {
      "text/plain": [
       "array([0.49743599, 0.52402329, 0.50542645, 0.47100673, 0.47073421])"
      ]
     },
     "execution_count": 137,
     "metadata": {},
     "output_type": "execute_result"
    }
   ],
   "source": [
    "cross_val_score(xgbr,X,y)"
   ]
  },
  {
   "cell_type": "code",
   "execution_count": 138,
   "id": "f9c1fdc0-1bb1-457b-962e-0d90ce89b86e",
   "metadata": {},
   "outputs": [
    {
     "data": {
      "text/plain": [
       "0.49372533399999996"
      ]
     },
     "execution_count": 138,
     "metadata": {},
     "output_type": "execute_result"
    }
   ],
   "source": [
    "np.mean([0.49743599, 0.52402329, 0.50542645, 0.47100673, 0.47073421])"
   ]
  },
  {
   "cell_type": "code",
   "execution_count": 139,
   "id": "4e317d20-6828-4608-9a2a-5282b8a107c3",
   "metadata": {},
   "outputs": [],
   "source": [
    "Xgbr_predict=xgbr.predict(X)"
   ]
  },
  {
   "cell_type": "code",
   "execution_count": 140,
   "id": "aec40dbd-f3c4-490c-bdd1-d1ff2a475ddd",
   "metadata": {},
   "outputs": [],
   "source": [
    "xgbr_resid=y-Xgbr_predict"
   ]
  },
  {
   "cell_type": "code",
   "execution_count": 142,
   "id": "b37d03ae-9985-49ba-8500-d511e360aa40",
   "metadata": {},
   "outputs": [
    {
     "data": {
      "text/plain": [
       "20.50994093715973"
      ]
     },
     "execution_count": 142,
     "metadata": {},
     "output_type": "execute_result"
    }
   ],
   "source": [
    "np.sqrt(np.mean(xgbr_resid**2))"
   ]
  },
  {
   "cell_type": "code",
   "execution_count": null,
   "id": "de05cf0c-82b1-496c-b4fe-5e20ed1e3f3f",
   "metadata": {},
   "outputs": [],
   "source": []
  },
  {
   "cell_type": "markdown",
   "id": "e5e30235-7ad7-4829-ba60-74d28a855ed9",
   "metadata": {},
   "source": [
    "# Summary:\n",
    "After building and evaluating various machine learning models for the House Prices dataset, we have compiled additional information, including RMSE(Root Mean Square Error), to provide a comprehensive summary. Below is a table summarizing the models, their machine learning scores, r_square, and RMSE values:\n",
    "\n",
    "|Model Name|R_square|RMSE|\n",
    "|:--:|:--:|:--:|\n",
    "| Linear Regression |0.5086861995349856|23.26552629095697|\n",
    "| **Decision Tree** |**0.9516409166666177**|**7.299152369425891**|\n",
    "| Random Forest |0.8957544904286234|10.71672478773534|\n",
    "| Gradient Boosting Machine |0.8445961112397582|13.084717200977414|\n",
    "| Support Vector Machine |0.5288119958826082|22.784028345150606|\n",
    "| KNearestNeighbor |0.6338955713389165|20.08333769414311|\n",
    "| Xgboost |0.6181770574497178|20.50994093715973|\n",
    "\n",
    "\n",
    "The \"Decision Tree\" model has a significantly lower RMSE score than its counterparts, indicating its superior predictive performance for this dataset. Despite a lower accuracy score, the lower RMSE value suggests that the Decision Tree model yields predictions more closely aligned with actual outcomes, which is particularly valuable for regression tasks where numerical prediction accuracy is crucial.\n",
    "\n",
    "In light of these findings, it's advisable to consider thDecision Treees model as a more reliable option for regression analysis on thUber fareses dataset, prioritizing RMSE as the key performance indicator scores."
   ]
  },
  {
   "cell_type": "code",
   "execution_count": null,
   "id": "f3f2ed48-a1b2-46df-a851-0e98d7342e92",
   "metadata": {},
   "outputs": [],
   "source": []
  }
 ],
 "metadata": {
  "kernelspec": {
   "display_name": "Python 3 (ipykernel)",
   "language": "python",
   "name": "python3"
  },
  "language_info": {
   "codemirror_mode": {
    "name": "ipython",
    "version": 3
   },
   "file_extension": ".py",
   "mimetype": "text/x-python",
   "name": "python",
   "nbconvert_exporter": "python",
   "pygments_lexer": "ipython3",
   "version": "3.11.7"
  }
 },
 "nbformat": 4,
 "nbformat_minor": 5
}
